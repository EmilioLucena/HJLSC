{
 "cells": [
  {
   "cell_type": "code",
   "execution_count": 1,
   "metadata": {},
   "outputs": [],
   "source": [
    "import requests"
   ]
  },
  {
   "cell_type": "code",
   "execution_count": 4,
   "metadata": {},
   "outputs": [],
   "source": [
    "server_url = \"http://localhost:5000\"\n",
    "\n",
    "r = requests.get(server_url + '/status')"
   ]
  },
  {
   "cell_type": "code",
   "execution_count": 10,
   "metadata": {},
   "outputs": [
    {
     "data": {
      "text/plain": [
       "'{\"success\": true}'"
      ]
     },
     "execution_count": 10,
     "metadata": {},
     "output_type": "execute_result"
    }
   ],
   "source": [
    "r.text"
   ]
  },
  {
   "cell_type": "code",
   "execution_count": 11,
   "metadata": {},
   "outputs": [
    {
     "data": {
      "text/plain": [
       "{'ContentType': 'application/json', 'Content-Type': 'text/html; charset=utf-8', 'Content-Length': '17', 'Server': 'Werkzeug/1.0.1 Python/3.6.9', 'Date': 'Sat, 11 Jul 2020 15:28:42 GMT'}"
      ]
     },
     "execution_count": 11,
     "metadata": {},
     "output_type": "execute_result"
    }
   ],
   "source": [
    "r.headers"
   ]
  },
  {
   "cell_type": "code",
   "execution_count": 12,
   "metadata": {},
   "outputs": [],
   "source": [
    "r = requests.get(server_url + '/etapas')"
   ]
  },
  {
   "cell_type": "code",
   "execution_count": 13,
   "metadata": {},
   "outputs": [
    {
     "name": "stdout",
     "output_type": "stream",
     "text": [
      "[{\"course\": \"Machine Learning\", \"name\": \"Ordinary World\", \"id\": 1, \"step\": 1, \"stage\": 1}, {\"course\": \"Machine Learning\", \"name\": \"Call to Action step\", \"id\": 2, \"step\": 2, \"stage\": 1}, {\"course\": \"Machine Learning\", \"name\": \"Anxiety of the Call\", \"id\": 3, \"step\": 3, \"stage\": 1}, {\"course\": \"Machine Learning\", \"name\": \"Mentors Aid\", \"id\": 4, \"step\": 4, \"stage\": 1}, {\"course\": \"Machine Learning\", \"name\": \"Throgh the Threshold\", \"id\": 5, \"step\": 5, \"stage\": 1}, {\"course\": \"Machine Learning\", \"name\": \"New World\", \"id\": 6, \"step\": 1, \"stage\": 2}, {\"course\": \"Machine Learning\", \"name\": \"Trials\", \"id\": 7, \"step\": 2, \"stage\": 2}, {\"course\": \"Machine Learning\", \"name\": \"Fulfilment\", \"id\": 8, \"step\": 3, \"stage\": 2}, {\"course\": \"Machine Learning\", \"name\": \"NightFall\", \"id\": 9, \"step\": 4, \"stage\": 2}, {\"course\": \"Machine Learning\", \"name\": \"Central - Trial\", \"id\": 10, \"step\": 1, \"stage\": 3}, {\"course\": \"Machine Learning\", \"name\": \"Outcome\", \"id\": 11, \"step\": 2, \"stage\": 3}, {\"course\": \"Machine Learning\", \"name\": \"Relapse\", \"id\": 12, \"step\": 3, \"stage\": 3}, {\"course\": \"Machine Learning\", \"name\": \"Ressurection\", \"id\": 13, \"step\": 4, \"stage\": 3}, {\"course\": \"Machine Learning\", \"name\": \"Conclusion\", \"id\": 14, \"step\": 5, \"stage\": 3}]\n"
     ]
    },
    {
     "data": {
      "text/plain": [
       "{'ContentType': 'application/json', 'Content-Type': 'text/html; charset=utf-8', 'Content-Length': '1237', 'Server': 'Werkzeug/1.0.1 Python/3.6.9', 'Date': 'Sat, 11 Jul 2020 15:30:07 GMT'}"
      ]
     },
     "execution_count": 13,
     "metadata": {},
     "output_type": "execute_result"
    }
   ],
   "source": [
    "print(r.text)\n",
    "r.headers"
   ]
  },
  {
   "cell_type": "code",
   "execution_count": null,
   "metadata": {},
   "outputs": [],
   "source": []
  }
 ],
 "metadata": {
  "kernelspec": {
   "display_name": "Python 3",
   "language": "python",
   "name": "python3"
  },
  "language_info": {
   "codemirror_mode": {
    "name": "ipython",
    "version": 3
   },
   "file_extension": ".py",
   "mimetype": "text/x-python",
   "name": "python",
   "nbconvert_exporter": "python",
   "pygments_lexer": "ipython3",
   "version": "3.7.3"
  }
 },
 "nbformat": 4,
 "nbformat_minor": 2
}
